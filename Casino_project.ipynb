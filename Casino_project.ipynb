{
 "cells": [
  {
   "cell_type": "code",
   "execution_count": 1,
   "id": "05e68ae8-0b30-4a87-96f0-5428e99995fc",
   "metadata": {},
   "outputs": [],
   "source": [
    "import random\n",
    "import os\n",
    "import json\n",
    "import time"
   ]
  },
  {
   "cell_type": "code",
   "execution_count": 2,
   "id": "3454c7ad-e50a-4825-87f4-3799dc7df63b",
   "metadata": {},
   "outputs": [],
   "source": [
    "MAX_USERS = 99\n",
    "number_of_slots_in_table = 36\n",
    "ROULETTE_WHEEL = {'red':[1,3,5,7,9,12,14,16,18,19,21,23,25,27,30,32,34,36],'black':[2,4,6,8,10,11,13,15,17,20,22,24,26,28,29,31,33,35],'green':[0]}\n",
    "SPLIT_ODDS = 17\n",
    "STRAIGHT_ODDS = 35\n",
    "EVEN_ODDS = 1\n",
    "COLOR_ODDS = 1\n",
    "MAXIMUM_LOAN_ALLOWED = 10000\n",
    "casino_user_database_file = \"players.txt\"\n",
    "user_database = {}"
   ]
  },
  {
   "cell_type": "code",
   "execution_count": 3,
   "id": "4507ba72-02b7-4695-af79-2748a3b3f246",
   "metadata": {},
   "outputs": [],
   "source": [
    "def newPlayer():\n",
    "    global user_database\n",
    "    name = input(\"Name:\")\n",
    "    money = float(input(\"amount to deposit:\"))\n",
    "    uniqueID = str(random.randint(0,MAX_USERS))\n",
    "    while uniqueID in user_database.keys():\n",
    "          uniqueID = str(random.randint(0,MAX_USERS))\n",
    "    user_database[uniqueID] = {'name': name, 'balance':money, 'WLR': None, 'expenditure':0, 'loans':0, 'favorite':None, 'winnings':0, 'roulette':0, 'blackjack':0, 'wins':0, 'losses':0}\n",
    "    print(f\"Hey {name}, you have been assigned {uniqueID} as your ID\")\n",
    "    return uniqueID"
   ]
  },
  {
   "cell_type": "code",
   "execution_count": 4,
   "id": "a9175513-ac04-48ea-b73b-8722b60b3e92",
   "metadata": {},
   "outputs": [],
   "source": [
    "def blackjack(uid):\n",
    "    global user_database\n",
    "    user_database[uid]['blackjack'] += 1\n",
    "    dCard = False\n",
    "    uBust = False\n",
    "    dBust = False\n",
    "    with open('card_deck.txt', 'r') as f:\n",
    "        deck_of_cards = json.load(f)\n",
    "    user_bet = float(input(\"Enter bet amount ($)\"))\n",
    "    while user_database[uid]['balance'] - user_bet < 0:\n",
    "        successfully_borrowed = offer_loan(uid)\n",
    "        if not successfully_borrowed:\n",
    "            user_in = input(\"enter lower amount? y/yes\")\n",
    "            if user_in.upper() not in ['YES','Y']:        \n",
    "                return\n",
    "        else:\n",
    "            user_bet = float(input(f\"Enter bet amount below ($) {user_database[uid]['balance']}\"))\n",
    "    user_database[uid]['balance'] -= user_bet\n",
    "    user_database[uid]['expenditure'] += user_bet\n",
    "    card_list = list(deck_of_cards.keys())\n",
    "    user_hand = []\n",
    "    dealer_hand = []\n",
    "    for _ in range(2):\n",
    "        pick = random.choice(card_list)\n",
    "        card_list.remove(pick)\n",
    "        user_hand.append(pick)\n",
    "        pick2 = random.choice(card_list)\n",
    "        card_list.remove(pick2)\n",
    "        dealer_hand.append(pick2)\n",
    "    total = print_hands(user_hand, dealer_hand, deck_of_cards, dCard)\n",
    "    utotal = total[0]\n",
    "    dtotal = total[1]\n",
    "    hit = input(\"Would you like to hit?, 'Y' 'YES'\")\n",
    "    hitCond = [\"Y\", \"YES\"]\n",
    "    while hit.upper() in hitCond and utotal < 21:\n",
    "        pick = random.choice(card_list)\n",
    "        card_list.remove(pick)\n",
    "        user_hand.append(pick)\n",
    "        total = print_hands(user_hand, dealer_hand, deck_of_cards, dCard)\n",
    "        utotal = total[0]\n",
    "        if utotal < 21:\n",
    "            hit = input(\"Would you like to hit?, 'Y' 'YES'\")\n",
    "    dCard = True\n",
    "    if utotal > 21:\n",
    "        uBust = True\n",
    "    if not uBust:\n",
    "        while dtotal < 17:\n",
    "            pick2 = random.choice(card_list)\n",
    "            card_list.remove(pick2)\n",
    "            dealer_hand.append(pick2)\n",
    "            total = print_hands(user_hand, dealer_hand, deck_of_cards, dCard)\n",
    "            dtotal = total[1]\n",
    "    else:\n",
    "        print(\"You busted, you lose\")\n",
    "        user_database[uid]['losses'] += 1\n",
    "    if dtotal > 21:\n",
    "        print(f\"The dealer busted, you win {2 * user_bet}\")\n",
    "        user_database[uid]['balance'] += (2 * user_bet)\n",
    "        user_database[uid]['wins'] += 1\n",
    "        user_database[uid]['winnings'] += (2 * user_bet)\n",
    "    elif dtotal > utotal and not uBust:\n",
    "        print(\"The dealer got more that you, you lose\")\n",
    "        user_database[uid]['losses'] += 1\n",
    "    elif utotal > dtotal:\n",
    "        print(f\"You got more than the dealer, you win {2 * user_bet}\")\n",
    "        user_database[uid]['balance'] += (2 * user_bet)\n",
    "        user_database[uid]['winnings'] += (2 * user_bet)\n",
    "        user_database[uid]['wins'] += 1\n",
    "    else:\n",
    "        print(f\"You tied the dealer, you get {user_bet} back\")\n",
    "        user_database[uid]['balance'] += (user_bet)\n",
    "        user_database[uid]['winnings'] += (user_bet)"
   ]
  },
  {
   "cell_type": "code",
   "execution_count": 5,
   "id": "b628986d-f044-4914-91c7-870729144eb0",
   "metadata": {},
   "outputs": [],
   "source": [
    "def offer_loan(userID):\n",
    "    global user_database\n",
    "    user_in = input(\"Your bet amount takes your balance below 0. take loan? y/yes to accept\")\n",
    "    valid_input = ['Y','YES']\n",
    "    if user_in.upper() in valid_input:        \n",
    "        if user_database[userID]['loans'] >= MAXIMUM_LOAN_ALLOWED: # is user already at limit?\n",
    "            print(f\"Sorry, you are currently at maximum credit. Your outstanding balance is:{user_database[userID]['loans']}\")             \n",
    "            return False        \n",
    "        else:            \n",
    "            amount_requested = float(input(f\"How much would you like to borrow? max: {MAXIMUM_LOAN_ALLOWED - user_database[userID]['loans']}\"))            \n",
    "            while (amount_requested + user_database[userID]['loans']) > MAXIMUM_LOAN_ALLOWED:                \n",
    "                amount_requested = float(input(f\"Please enter an amount between $0 and {MAXIMUM_LOAN_ALLOWED - user_database[userID]['loans']}\"))                                              \n",
    "            user_database[userID]['loans'] += amount_requested\n",
    "            user_database[userID]['balance'] += amount_requested\n",
    "            print(f\"You've successfully borrowed {amount_requested}, your current balance is {user_database[userID]['balance']}\")   \n",
    "            return True\n",
    "    else:\n",
    "        return False"
   ]
  },
  {
   "cell_type": "code",
   "execution_count": 6,
   "id": "d5cb1e72-5971-457b-b893-773863f70901",
   "metadata": {},
   "outputs": [],
   "source": [
    "def print_hands(user_cards, dealer_cards, deck, dealer_card_revealed):\n",
    "    user_total = 0\n",
    "    print(f\"user cards: \", end = '')\n",
    "    for card in user_cards:\n",
    "        user_total += deck[card]\n",
    "        print(f\"{card}\", end=' ')\n",
    "    print (f\"total: {user_total}\")\n",
    "    dealer_total = 0\n",
    "    if dealer_card_revealed:\n",
    "        print(f\"dealer cards: \", end = '')\n",
    "        for card in dealer_cards:\n",
    "            dealer_total += deck[card]\n",
    "            print(f\"{card} \", end=' ')\n",
    "        print (f\" total: {dealer_total}\")\n",
    "        return user_total,dealer_total\n",
    "    else:\n",
    "        print(f\"dealer cards: \", end = '')\n",
    "        for card in dealer_cards[:-1]:\n",
    "            dealer_total += deck[card]\n",
    "            print(f\"{card} \", end=' ')\n",
    "        print(\"+ face down card\")\n",
    "        print (f\" total: {dealer_total}\")\n",
    "    return user_total,dealer_total"
   ]
  },
  {
   "cell_type": "code",
   "execution_count": 7,
   "id": "cda85480-fd6f-4501-827e-66d40753d4d4",
   "metadata": {},
   "outputs": [],
   "source": [
    "def spin_slot_wheel(delay = 1,dots = 3):\n",
    "    global number_of_slots_in_table\n",
    "    print(\"spinning\",end='')\n",
    "\n",
    "    for dot in range(dots):\n",
    "        time.sleep(delay)\n",
    "        print('.', end = ' ')\n",
    "    random_number =  random.randint(0,number_of_slots_in_table)\n",
    "    color = get_slot_color(random_number, ROULETTE_WHEEL)\n",
    "    print(f\"landed on {color}: {random_number}\")\n",
    "    return random_number, color"
   ]
  },
  {
   "cell_type": "code",
   "execution_count": 8,
   "id": "1d64d4de-e8a5-47ba-8ca4-1ed512087051",
   "metadata": {},
   "outputs": [],
   "source": [
    "def get_slot_color(number, roulette_table):\n",
    "    color = None\n",
    "    for col,slot_numbers in roulette_table.items():\n",
    "        if number in slot_numbers:\n",
    "            color = col\n",
    "    return color"
   ]
  },
  {
   "cell_type": "code",
   "execution_count": 9,
   "id": "f75556cd-2061-4d9a-8910-c6648843a0f5",
   "metadata": {},
   "outputs": [],
   "source": [
    "def play_roulette(uid):\n",
    "    global user_database\n",
    "    user_database[uid]['roulette'] += 1\n",
    "    user_bet = float(input(\"Enter bet amount ($)\"))\n",
    "    while user_database[uid]['balance'] - user_bet < 0: # account goes negative\n",
    "        successfully_borrowed = offer_loan(uid)\n",
    "        if not successfully_borrowed:\n",
    "            user_in = input(\"enter lower amount? y/yes\")\n",
    "            if user_in.upper() not in ['YES','Y']:        \n",
    "                return\n",
    "        else:\n",
    "            user_bet = float(input(f\"Enter bet amount below ($) {user_database[uid]['balance']}\")) \n",
    "            \n",
    "    user_database[uid]['expenditure'] += user_bet\n",
    "    user_database[uid]['balance'] -= user_bet # adjust user account balance accordingly\n",
    "    winner = False\n",
    "    odds = 0\n",
    "    bet_type = int(input(\"What kind of bet would you like to place?\\nStraight up betting:0\\nsplit betting:1\\nColor betting:2\\nEven or odd betting:3\\n\"))\n",
    "    if bet_type == 0:        \n",
    "        bet = input(\"Enter a number to bet on\")\n",
    "        odds = 35\n",
    "    elif bet_type == 1:\n",
    "        bet = input(\"Enter a number to bet on\")\n",
    "        bet2 = input(\"Enter another number to bet on\")\n",
    "        odds = 17\n",
    "    elif bet_type == 2:\n",
    "        bet = input(\"Pick Black or Red\")\n",
    "        odds = 2\n",
    "    else:\n",
    "        bet = input(\"Pick even or odd\\nEven: 0\\nOdd: 1\\n\")\n",
    "        odds = 2\n",
    "    resu = spin_slot_wheel()\n",
    "    num = resu[0]\n",
    "    color = resu[1]\n",
    "    if bet_type == 0:\n",
    "        if num == bet:\n",
    "            print(f\"You won {odds * user_bet}\")\n",
    "            user_database[uid]['balance'] += (odds * user_bet)\n",
    "            user_database[uid]['wins'] += 1\n",
    "            user_database[uid]['winnings'] += (odds * user_bet)\n",
    "        else:\n",
    "            print(\"You lost\")\n",
    "            user_database[uid]['losses'] += 1\n",
    "    elif bet_type == 1:\n",
    "        if num == bet or num == bet2:\n",
    "            print(f\"You won {odds * user_bet}\")\n",
    "            user_database[uid]['balance'] += (odds * user_bet)\n",
    "            user_database[uid]['wins'] += 1\n",
    "            user_database[uid]['winnings'] += (odds * user_bet)\n",
    "        else:\n",
    "            print(\"You lost\")\n",
    "            user_database[uid]['losses'] += 1\n",
    "    elif bet_type == 2:\n",
    "        if bet.upper() == color.upper():\n",
    "            print(f\"You won {odds * user_bet}\")\n",
    "            user_database[uid]['balance'] += (odds * user_bet)\n",
    "            user_database[uid]['wins'] += 1\n",
    "            user_database[uid]['winnings'] += (odds * user_bet)\n",
    "        else:\n",
    "            print(\"You lost\")\n",
    "            user_database[uid]['losses'] += 1\n",
    "    elif bet_type == 3:\n",
    "        if int(num%2) == int(bet):\n",
    "            print(f\"You won {odds * user_bet}\")\n",
    "            user_database[uid]['balance'] += (odds * user_bet)\n",
    "            user_database[uid]['wins'] += 1\n",
    "            user_database[uid]['winnings'] += (odds * user_bet)\n",
    "        else:\n",
    "            print(\"You lost\")\n",
    "            user_database[uid]['losses'] += 1"
   ]
  },
  {
   "cell_type": "code",
   "execution_count": 10,
   "id": "8189df89-2a11-4b1b-8e49-eb3d07afb34b",
   "metadata": {},
   "outputs": [],
   "source": [
    "def print_leader_board(score = 'winnings'): # 'winnings' is the default key to sort on if the user doesn't provide a key\n",
    "    global user_database\n",
    "    print('*'*32) # print **************************\n",
    "    # print('*','\\t'*2,'*')\n",
    "    # print('*','\\t'*2,'*')\n",
    "    print('\\tLeader board') # \\t prints a tab\n",
    "    print('*'*32) # print **************************\n",
    "    # sort the players according to the key (score)\n",
    "    #first, put the usernames and the score keys in different lists\n",
    "    score_list = []\n",
    "    user_list = []\n",
    "    user_id_list = []\n",
    "    # print(user_database)\n",
    "    for key, value in user_database.items():\n",
    "        score_list.append(value[score])\n",
    "        user_list.append(value['name'])\n",
    "        user_id_list.append(key)\n",
    "    # then zip them and sort the user id according to the score\n",
    "    zipped_values = sorted(zip(score_list,user_id_list), reverse=True)    \n",
    "    sorted_ids = [userid for score,userid in zipped_values]\n",
    "\n",
    "    # print(score_list)\n",
    "    # print(user_list)\n",
    "    # now, that the user id's are sorted acoording to score,let's print the user id in sequence and whatever else we want tos show\n",
    "    print (f\"\\tName\\t{score}\")\n",
    "    print('_'*32) # print line\n",
    "    for id_num in sorted_ids:\n",
    "        print(f\"\\t{user_database[id_num]['name']}\\t{user_database[id_num][score]}\")\n",
    "    print('_'*32) # print line"
   ]
  },
  {
   "cell_type": "code",
   "execution_count": null,
   "id": "6b5c68e2-302c-442d-b993-c1e80a48f207",
   "metadata": {},
   "outputs": [
    {
     "name": "stdin",
     "output_type": "stream",
     "text": [
      "Enter user ID to log in: (or \"new\" if new player) new\n",
      "Name: h\n",
      "amount to deposit: 7\n"
     ]
    },
    {
     "name": "stdout",
     "output_type": "stream",
     "text": [
      "Hey h, you have been assigned 83 as your ID\n"
     ]
    },
    {
     "name": "stdin",
     "output_type": "stream",
     "text": [
      "Would you like to quit?, 'Q' or 'Quit' f\n",
      "What game would you like to play?:\n",
      "BlackJack: 0 \n",
      "Roulette: 1\n",
      " 1\n",
      "Enter bet amount ($) 6\n",
      "What kind of bet would you like to place?\n",
      "Straight up betting:0\n",
      "split betting:1\n",
      "Color betting:2\n",
      "Even or odd betting:3\n",
      " 0\n",
      "Enter a number to bet on 7\n"
     ]
    },
    {
     "name": "stdout",
     "output_type": "stream",
     "text": [
      "spinning. . . landed on red: 19\n",
      "You lost\n"
     ]
    },
    {
     "name": "stdin",
     "output_type": "stream",
     "text": [
      "Would you like to quit?, 'Q' or 'Quit' no\n",
      "What game would you like to play?:\n",
      "BlackJack: 0 \n",
      "Roulette: 1\n",
      " 0\n",
      "Enter bet amount ($) 100\n",
      "Your bet amount takes your balance below 0. take loan? y/yes to accept y\n",
      "How much would you like to borrow? max: 10000 5000\n"
     ]
    },
    {
     "name": "stdout",
     "output_type": "stream",
     "text": [
      "You've successfully borrowed 5000.0, your current balance is 5001.0\n"
     ]
    },
    {
     "name": "stdin",
     "output_type": "stream",
     "text": [
      "Enter bet amount below ($) 5001.0 400\n"
     ]
    },
    {
     "name": "stdout",
     "output_type": "stream",
     "text": [
      "user cards: 8 of Hearts Ace of Hearts total: 9\n",
      "dealer cards: King of Clubs  + face down card\n",
      " total: 10\n"
     ]
    },
    {
     "name": "stdin",
     "output_type": "stream",
     "text": [
      "Would you like to hit?, 'Y' 'YES' y\n"
     ]
    },
    {
     "name": "stdout",
     "output_type": "stream",
     "text": [
      "user cards: 8 of Hearts Ace of Hearts 2 of Clubs total: 11\n",
      "dealer cards: King of Clubs  + face down card\n",
      " total: 10\n"
     ]
    },
    {
     "name": "stdin",
     "output_type": "stream",
     "text": [
      "Would you like to hit?, 'Y' 'YES' y\n"
     ]
    },
    {
     "name": "stdout",
     "output_type": "stream",
     "text": [
      "user cards: 8 of Hearts Ace of Hearts 2 of Clubs 10 of Spades total: 21\n",
      "dealer cards: King of Clubs  + face down card\n",
      " total: 10\n",
      "user cards: 8 of Hearts Ace of Hearts 2 of Clubs 10 of Spades total: 21\n",
      "dealer cards: King of Clubs  4 of Spades  King of Spades   total: 24\n",
      "The dealer busted, you win 800.0\n"
     ]
    }
   ],
   "source": [
    "global user_database\n",
    "files = [item.name for item in os.scandir() if item.is_file()]\n",
    "if casino_user_database_file in files:      \n",
    "    with open(casino_user_database_file, 'r') as working_file:\n",
    "        user_database = json.load(working_file)\n",
    "else:\n",
    "    user_database = {}\n",
    "    newPlayer()\n",
    "uid = input(\"Enter user ID to log in: (or \\\"new\\\" if new player)\")\n",
    "if uid in user_database:\n",
    "    print(f\"{user_database[uid]['name']}, you can play! balance: {user_database[uid]['balance']}\")\n",
    "else:\n",
    "    uid = newPlayer()\n",
    "quitConitions = [\"Q\", \"QUIT\", \"Y\", \"YES\"]\n",
    "uInput = \"R\"\n",
    "while uInput.upper() not in quitConitions:\n",
    "    uInput = input(\"Would you like to quit?, 'Q' or 'Quit'\")\n",
    "    if uInput.upper() not in quitConitions:\n",
    "        game = int(input(\"What game would you like to play?:\\nBlackJack: 0 \\nRoulette: 1\\n\"))\n",
    "        if game == 0:\n",
    "            blackjack(uid)\n",
    "        elif game == 1:\n",
    "            play_roulette(uid)\n",
    "        else:\n",
    "            print(\"Not a valid game\")\n",
    "with open (casino_user_database_file, 'w' ) as working_file:\n",
    "    json.dump(user_database, working_file)\n",
    "print_leader_board()"
   ]
  },
  {
   "cell_type": "code",
   "execution_count": null,
   "id": "bf421baf-84f8-4fff-b965-b08c9e386baa",
   "metadata": {},
   "outputs": [],
   "source": []
  },
  {
   "cell_type": "code",
   "execution_count": null,
   "id": "6a9348a8-1d69-455d-a7f6-6692dc95d8d1",
   "metadata": {},
   "outputs": [],
   "source": []
  },
  {
   "cell_type": "code",
   "execution_count": null,
   "id": "589cbef8-2788-4d17-bba3-ee7fc3ac93b0",
   "metadata": {},
   "outputs": [],
   "source": []
  },
  {
   "cell_type": "code",
   "execution_count": 150,
   "id": "eb594dc5-bec3-40f2-a251-a9faa9d92577",
   "metadata": {},
   "outputs": [
    {
     "name": "stdin",
     "output_type": "stream",
     "text": [
      "What is your name Greg\n"
     ]
    },
    {
     "name": "stdout",
     "output_type": "stream",
     "text": [
      "If you could have any pet, what would it be?\n",
      "a. Owl\n",
      "b. Cat\n",
      "c. Toad\n",
      "d. Snake\n",
      "\n"
     ]
    },
    {
     "name": "stdin",
     "output_type": "stream",
     "text": [
      " b\n"
     ]
    },
    {
     "name": "stdout",
     "output_type": "stream",
     "text": [
      "Which of the following qualities do you value most in yourself?\n",
      "a. Bravery\n",
      "b. Loyalty\n",
      "c. Intelligence\n",
      "d. Ambition\n",
      "\n"
     ]
    },
    {
     "name": "stdin",
     "output_type": "stream",
     "text": [
      " c\n"
     ]
    },
    {
     "name": "stdout",
     "output_type": "stream",
     "text": [
      "Which of the following activities would you enjoy the most?\n",
      "a. Playing Quidditch\n",
      "b. Spending time with friends\n",
      "c. Studying in the library\n",
      "d. Plotting your next move\n",
      "\n"
     ]
    },
    {
     "name": "stdin",
     "output_type": "stream",
     "text": [
      " c\n"
     ]
    },
    {
     "name": "stdout",
     "output_type": "stream",
     "text": [
      "Which of the following Hogwarts classes would you excel in?\n",
      "a. Defense Against the Dark Arts\n",
      "b. Herbology\n",
      "c. Charms\n",
      "d. Potions\n",
      "\n"
     ]
    },
    {
     "name": "stdin",
     "output_type": "stream",
     "text": [
      " c\n"
     ]
    },
    {
     "name": "stdout",
     "output_type": "stream",
     "text": [
      "Which Hogwarts house do you admire the most?\n",
      "a. Gryffindor\n",
      "b. Hufflepuff\n",
      "c. Ravenclaw\n",
      "d. Slytherin\n",
      "\n"
     ]
    },
    {
     "name": "stdin",
     "output_type": "stream",
     "text": [
      " b\n"
     ]
    },
    {
     "name": "stdout",
     "output_type": "stream",
     "text": [
      "How would you respond to someone talking trash to you\n",
      "A. Get big on them\n",
      "B. Give them a lollipop\n",
      "C. Scheme a way to kill them\n",
      "D. Beat them up\n",
      "\n"
     ]
    },
    {
     "name": "stdin",
     "output_type": "stream",
     "text": [
      " a\n"
     ]
    },
    {
     "name": "stdout",
     "output_type": "stream",
     "text": [
      "What music is your favorite\n",
      "A. Classic Rock\n",
      "B. EDM\n",
      "C. County\n",
      "D. Rap\n",
      "\n"
     ]
    },
    {
     "name": "stdin",
     "output_type": "stream",
     "text": [
      " c\n"
     ]
    },
    {
     "name": "stdout",
     "output_type": "stream",
     "text": [
      "Who do you aspire to be\n",
      "A. John F. Kennedy\n",
      "B. Gandhi\n",
      "C. Napoleon Bonaparte\n",
      "D. Stalin\n",
      "\n"
     ]
    },
    {
     "name": "stdin",
     "output_type": "stream",
     "text": [
      " c\n"
     ]
    },
    {
     "name": "stdout",
     "output_type": "stream",
     "text": [
      "You belong in house Ravenclaw\n"
     ]
    }
   ],
   "source": [
    "aCount = 0\n",
    "bCount = 0\n",
    "cCount = 0\n",
    "dCount = 0\n",
    "name = input(\"What is your name\")\n",
    "q = open(\"harry_potter_registry\", 'r')\n",
    "harry_people = q.read()\n",
    "q.close()\n",
    "harry_people += name\n",
    "for i in range(9):\n",
    "    if i != 0:\n",
    "        R = (6 * (i - 1)) - 1\n",
    "        N = i * 6\n",
    "        with open(\"harry_potter_questions.txt\", \"r\") as file:\n",
    "            for i in range(N):\n",
    "                line = next(file).strip()\n",
    "                if i > R:\n",
    "                    print(line)\n",
    "        q = input()\n",
    "        R = N\n",
    "        if q.upper() == \"A\":\n",
    "            aCount += 1\n",
    "        elif q.upper() == \"B\":\n",
    "            bCount += 1\n",
    "        elif q.upper() == \"C\":\n",
    "            cCount += 1\n",
    "        elif q.upper() == \"D\":\n",
    "            dCount += 1\n",
    "if aCount > bCount and aCount > cCount and aCount > dCount:\n",
    "    print(\"You belong in house Gryffindor\")\n",
    "    harry_people += \" You belong in house Gryffindor\"\n",
    "elif bCount > aCount and bCount > cCount and bCount > dCount:\n",
    "    print(\"You belong in house Hufflepuff\")\n",
    "    harry_people += \" You belong in house Hufflepuff\"\n",
    "elif cCount > aCount and cCount > bCount and cCount > dCount:\n",
    "    print(\"You belong in house Ravenclaw\")\n",
    "    harry_people += \" You belong in house Ravenclaw\"\n",
    "elif dCount > aCount and dCount > bCount and dCount > cCount:\n",
    "    print(\"You belong in house Slytherin\")\n",
    "    harry_people += \" You belong in house Slytherin\"\n",
    "else:\n",
    "    print(\"Your house cannot be determined\")\n",
    "    harry_people += \" Your house cannot be determined\"\n",
    "q = open(\"harry_potter_registry\", 'a')\n",
    "q.write(harry_people)\n",
    "q.close()"
   ]
  },
  {
   "cell_type": "code",
   "execution_count": 151,
   "id": "b60c5685-bf39-4511-be5e-ce49a56cd1ca",
   "metadata": {},
   "outputs": [
    {
     "name": "stdin",
     "output_type": "stream",
     "text": [
      "What is your name Byron\n"
     ]
    },
    {
     "name": "stdout",
     "output_type": "stream",
     "text": [
      "If you could have any pet, what would it be?\n",
      "a. Owl\n",
      "b. Cat\n",
      "c. Toad\n",
      "d. Snake\n",
      "\n"
     ]
    },
    {
     "name": "stdin",
     "output_type": "stream",
     "text": [
      " d\n"
     ]
    },
    {
     "name": "stdout",
     "output_type": "stream",
     "text": [
      "Which of the following qualities do you value most in yourself?\n",
      "a. Bravery\n",
      "b. Loyalty\n",
      "c. Intelligence\n",
      "d. Ambition\n",
      "\n"
     ]
    },
    {
     "name": "stdin",
     "output_type": "stream",
     "text": [
      " b\n"
     ]
    },
    {
     "name": "stdout",
     "output_type": "stream",
     "text": [
      "Which of the following activities would you enjoy the most?\n",
      "a. Playing Quidditch\n",
      "b. Spending time with friends\n",
      "c. Studying in the library\n",
      "d. Plotting your next move\n",
      "\n"
     ]
    },
    {
     "name": "stdin",
     "output_type": "stream",
     "text": [
      " b\n"
     ]
    },
    {
     "name": "stdout",
     "output_type": "stream",
     "text": [
      "Which of the following Hogwarts classes would you excel in?\n",
      "a. Defense Against the Dark Arts\n",
      "b. Herbology\n",
      "c. Charms\n",
      "d. Potions\n",
      "\n"
     ]
    },
    {
     "name": "stdin",
     "output_type": "stream",
     "text": [
      " b\n"
     ]
    },
    {
     "name": "stdout",
     "output_type": "stream",
     "text": [
      "Which Hogwarts house do you admire the most?\n",
      "a. Gryffindor\n",
      "b. Hufflepuff\n",
      "c. Ravenclaw\n",
      "d. Slytherin\n",
      "\n"
     ]
    },
    {
     "name": "stdin",
     "output_type": "stream",
     "text": [
      " c\n"
     ]
    },
    {
     "name": "stdout",
     "output_type": "stream",
     "text": [
      "How would you respond to someone talking trash to you\n",
      "A. Get big on them\n",
      "B. Give them a lollipop\n",
      "C. Scheme a way to kill them\n",
      "D. Beat them up\n",
      "\n"
     ]
    },
    {
     "name": "stdin",
     "output_type": "stream",
     "text": [
      " a\n"
     ]
    },
    {
     "name": "stdout",
     "output_type": "stream",
     "text": [
      "What music is your favorite\n",
      "A. Classic Rock\n",
      "B. EDM\n",
      "C. County\n",
      "D. Rap\n",
      "\n"
     ]
    },
    {
     "name": "stdin",
     "output_type": "stream",
     "text": [
      " b\n"
     ]
    },
    {
     "name": "stdout",
     "output_type": "stream",
     "text": [
      "Who do you aspire to be\n",
      "A. John F. Kennedy\n",
      "B. Gandhi\n",
      "C. Napoleon Bonaparte\n",
      "D. Stalin\n",
      "\n"
     ]
    },
    {
     "name": "stdin",
     "output_type": "stream",
     "text": [
      " b\n"
     ]
    },
    {
     "name": "stdout",
     "output_type": "stream",
     "text": [
      "You belong in house Hufflepuff\n"
     ]
    }
   ],
   "source": [
    "aCount = 0\n",
    "bCount = 0\n",
    "cCount = 0\n",
    "dCount = 0\n",
    "name = input(\"What is your name\")\n",
    "q = open(\"harry_potter_registry\", 'r')\n",
    "harry_people = q.read()\n",
    "q.close()\n",
    "harry_people += name\n",
    "for i in range(9):\n",
    "    if i != 0:\n",
    "        R = (6 * (i - 1)) - 1\n",
    "        N = i * 6\n",
    "        with open(\"harry_potter_questions.txt\", \"r\") as file:\n",
    "            for i in range(N):\n",
    "                line = next(file).strip()\n",
    "                if i > R:\n",
    "                    print(line)\n",
    "        q = input()\n",
    "        R = N\n",
    "        if q.upper() == \"A\":\n",
    "            aCount += 1\n",
    "        elif q.upper() == \"B\":\n",
    "            bCount += 1\n",
    "        elif q.upper() == \"C\":\n",
    "            cCount += 1\n",
    "        elif q.upper() == \"D\":\n",
    "            dCount += 1\n",
    "if name.upper() == \"HARRY POTTER\":\n",
    "    print(\"You belong in house Slytherin with a 3.9 foot python\")\n",
    "    harry_people += \" You belong in house Slytherin with a 3.9 foot python\"\n",
    "elif name.upper() == \"HERMIONE\":\n",
    "    print(\"You belong in house Gryffindor\")\n",
    "    harry_people += \" You belong in house Gryffindor\"\n",
    "else:\n",
    "    if aCount > bCount and aCount > cCount and aCount > dCount:\n",
    "        print(\"You belong in house Gryffindor\")\n",
    "        harry_people += \" You belong in house Gryffindor\"\n",
    "    elif bCount > aCount and bCount > cCount and bCount > dCount:\n",
    "        print(\"You belong in house Hufflepuff\")\n",
    "        harry_people += \" You belong in house Hufflepuff\"\n",
    "    elif cCount > aCount and cCount > bCount and cCount > dCount:\n",
    "        print(\"You belong in house Ravenclaw\")\n",
    "        harry_people += \" You belong in house Ravenclaw\"\n",
    "    elif dCount > aCount and dCount > bCount and dCount > cCount:\n",
    "        print(\"You belong in house Slytherin\")\n",
    "        harry_people += \" You belong in house Slytherin\"\n",
    "    else:\n",
    "        print(\"Your house cannot be determined\")\n",
    "        harry_people += \" Your house cannot be determined\"\n",
    "q = open(\"harry_potter_registry\", 'a')\n",
    "q.write(harry_people)\n",
    "q.close()"
   ]
  },
  {
   "cell_type": "code",
   "execution_count": 3,
   "id": "3c9ae755-6ca8-4e1c-ab52-4b7cbe1fb5a3",
   "metadata": {},
   "outputs": [],
   "source": [
    "import random\n",
    "with open(\"student_names.txt\", \"r\") as file:\n",
    "    names = [name.strip() for name in file.readlines()]\n",
    "    \n",
    "with open(\"student_emails.txt\", \"w\") as file:\n",
    "    for name in names:\n",
    "        first = name.split()[2][0] if len(name.split()) > 2 else ''\n",
    "        second = name.split()[1][0]\n",
    "        third = name.split()[0][0]\n",
    "        num = random.randint(10000, 99999)\n",
    "        semail = (f\"{first}{second}{third}{num}@uga.edu\")\n",
    "        file.write(semail + '\\n')"
   ]
  },
  {
   "cell_type": "code",
   "execution_count": 40,
   "id": "d92f3465-7d2d-473c-87e7-c29c2423972b",
   "metadata": {},
   "outputs": [
    {
     "name": "stdout",
     "output_type": "stream",
     "text": [
      "The State Botanical Garden of Georgia - an expansive garden featuring beautiful plants, flowers, and trails that are perfect for a peaceful walk.\n",
      "\n"
     ]
    }
   ],
   "source": [
    "import random\n",
    "with open(\"athens_attractions.txt\", \"r\") as file:\n",
    "    attractions = file.readlines()\n",
    "    randAttractions = random.sample(attractions, 3)\n",
    "    attraction1 = randAttractions[0]\n",
    "    attraction2 = randAttractions[1]\n",
    "    attraction3 = randAttractions[2]\n",
    "print(attraction3)\n",
    "with open(\"email_template.txt\", \"r\") as file:\n",
    "    temp = file.read()\n",
    "with open(\"student_names.txt\", \"r\") as snames:\n",
    "    with open(\"completed_emails.txt\", \"w\") as email:\n",
    "        for name in snames:\n",
    "            parts = name.split()\n",
    "            fname = parts[-1]\n",
    "            lname = parts[0]\n",
    "            info = temp.replace('[first_name]', fname).replace('[last_name]', lname).replace('[attraction1]', attraction1).replace('[attraction2]', attraction2).replace('[attraction3]', attraction3).replace('[from_sender]', \"Greg Steckel\").replace('[sender_title]', \"INFO2000 student\\n\")\n",
    "            email.write(info)\n",
    "email.close()"
   ]
  },
  {
   "cell_type": "code",
   "execution_count": 41,
   "id": "51445696-addd-4335-8b13-cc80d673e72a",
   "metadata": {},
   "outputs": [
    {
     "name": "stdout",
     "output_type": "stream",
     "text": [
      "my_name_is_greg_steckel\n"
     ]
    }
   ],
   "source": [
    "def camel_to_snake(inp):\n",
    "    snake = ''\n",
    "    for i in inp:\n",
    "        if i.isupper():\n",
    "            snake += \"_\" + i.lower()\n",
    "        else:\n",
    "            snake += i\n",
    "    return snake\n",
    "print (camel_to_snake(\"myNameIsGregSteckel\"))"
   ]
  },
  {
   "cell_type": "code",
   "execution_count": null,
   "id": "fd48e496-044d-4c75-8eb2-ac0922182909",
   "metadata": {},
   "outputs": [],
   "source": []
  }
 ],
 "metadata": {
  "kernelspec": {
   "display_name": "Python 3 (ipykernel)",
   "language": "python",
   "name": "python3"
  },
  "language_info": {
   "codemirror_mode": {
    "name": "ipython",
    "version": 3
   },
   "file_extension": ".py",
   "mimetype": "text/x-python",
   "name": "python",
   "nbconvert_exporter": "python",
   "pygments_lexer": "ipython3",
   "version": "3.9.13"
  }
 },
 "nbformat": 4,
 "nbformat_minor": 5
}
