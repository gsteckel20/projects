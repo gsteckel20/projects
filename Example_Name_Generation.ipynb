{
 "cells": [
  {
   "cell_type": "code",
   "execution_count": 273,
   "id": "1e270f8b-9464-4713-94d1-6ad4d0ca56ac",
   "metadata": {},
   "outputs": [],
   "source": [
    "# Import modules\n",
    "\n",
    "import torch\n",
    "from torch.nn import Module,ReLU,CrossEntropyLoss,LSTM\n",
    "from torch.optim import Adam\n",
    "from torch.utils.data import Dataset,DataLoader\n",
    "from torch import nn\n",
    "from torch.optim.lr_scheduler import StepLR\n",
    "\n",
    "import numpy as np\n",
    "import pandas as pd\n",
    "import seaborn as sns\n",
    "from matplotlib import pyplot as plt\n",
    "\n",
    "import string\n",
    "import random"
   ]
  },
  {
   "cell_type": "code",
   "execution_count": 274,
   "id": "02fc723f-9568-4ba8-853e-e1f7ff5f3d15",
   "metadata": {},
   "outputs": [
    {
     "data": {
      "text/plain": [
       "<torch._C.Generator at 0x1119ce6b0>"
      ]
     },
     "execution_count": 274,
     "metadata": {},
     "output_type": "execute_result"
    }
   ],
   "source": [
    "torch.manual_seed(42)"
   ]
  },
  {
   "cell_type": "code",
   "execution_count": 275,
   "id": "482faee0-ddb1-4a88-b90d-f56382a0a280",
   "metadata": {},
   "outputs": [
    {
     "name": "stdout",
     "output_type": "stream",
     "text": [
      "cpu\n"
     ]
    }
   ],
   "source": [
    "device = torch.device(\"cuda\" if torch.cuda.is_available() else \"cpu\")\n",
    "print(device)\n"
   ]
  },
  {
   "cell_type": "code",
   "execution_count": 276,
   "id": "d2202417-c46e-47fd-b111-44565908bbf9",
   "metadata": {},
   "outputs": [
    {
     "name": "stdout",
     "output_type": "stream",
     "text": [
      "Data Shape: (20074, 2)\n"
     ]
    },
    {
     "name": "stderr",
     "output_type": "stream",
     "text": [
      "/var/folders/_n/97hhqsmx7pz8l855zd6lsc0c0000gn/T/ipykernel_90709/301001692.py:6: FutureWarning: The default value of regex will change from True to False in a future version.\n",
      "  data['names'] = data['names'].str.replace('\\d+', '')\n"
     ]
    }
   ],
   "source": [
    "# Read in data\n",
    "\n",
    "data = pd.read_csv('names_generate.csv')\n",
    "data = data.dropna()\n",
    "data['names'] = data['names'].str.split().agg(\"\".join)\n",
    "data['names'] = data['names'].str.replace('\\d+', '')\n",
    "data['names'] = data['names'].str.encode('ascii', 'ignore').str.decode('ascii')\n",
    "data.reset_index(drop=True, inplace=True)\n",
    "print(f\"Data Shape: {data.shape}\")"
   ]
  },
  {
   "cell_type": "code",
   "execution_count": 277,
   "id": "20f2bbaa-a20e-4435-b0c8-9fde044246e0",
   "metadata": {},
   "outputs": [
    {
     "data": {
      "text/html": [
       "<div>\n",
       "<style scoped>\n",
       "    .dataframe tbody tr th:only-of-type {\n",
       "        vertical-align: middle;\n",
       "    }\n",
       "\n",
       "    .dataframe tbody tr th {\n",
       "        vertical-align: top;\n",
       "    }\n",
       "\n",
       "    .dataframe thead th {\n",
       "        text-align: right;\n",
       "    }\n",
       "</style>\n",
       "<table border=\"1\" class=\"dataframe\">\n",
       "  <thead>\n",
       "    <tr style=\"text-align: right;\">\n",
       "      <th></th>\n",
       "      <th>category</th>\n",
       "      <th>names</th>\n",
       "    </tr>\n",
       "  </thead>\n",
       "  <tbody>\n",
       "    <tr>\n",
       "      <th>0</th>\n",
       "      <td>czech</td>\n",
       "      <td>abl</td>\n",
       "    </tr>\n",
       "    <tr>\n",
       "      <th>1</th>\n",
       "      <td>czech</td>\n",
       "      <td>adsit</td>\n",
       "    </tr>\n",
       "    <tr>\n",
       "      <th>2</th>\n",
       "      <td>czech</td>\n",
       "      <td>ajdrna</td>\n",
       "    </tr>\n",
       "    <tr>\n",
       "      <th>3</th>\n",
       "      <td>czech</td>\n",
       "      <td>alt</td>\n",
       "    </tr>\n",
       "    <tr>\n",
       "      <th>4</th>\n",
       "      <td>czech</td>\n",
       "      <td>antonowitsch</td>\n",
       "    </tr>\n",
       "    <tr>\n",
       "      <th>...</th>\n",
       "      <td>...</td>\n",
       "      <td>...</td>\n",
       "    </tr>\n",
       "    <tr>\n",
       "      <th>20069</th>\n",
       "      <td>polish</td>\n",
       "      <td>zdunowski</td>\n",
       "    </tr>\n",
       "    <tr>\n",
       "      <th>20070</th>\n",
       "      <td>polish</td>\n",
       "      <td>zielinski</td>\n",
       "    </tr>\n",
       "    <tr>\n",
       "      <th>20071</th>\n",
       "      <td>polish</td>\n",
       "      <td>ziemniak</td>\n",
       "    </tr>\n",
       "    <tr>\n",
       "      <th>20072</th>\n",
       "      <td>polish</td>\n",
       "      <td>zientek</td>\n",
       "    </tr>\n",
       "    <tr>\n",
       "      <th>20073</th>\n",
       "      <td>polish</td>\n",
       "      <td>uraw</td>\n",
       "    </tr>\n",
       "  </tbody>\n",
       "</table>\n",
       "<p>20074 rows × 2 columns</p>\n",
       "</div>"
      ],
      "text/plain": [
       "      category         names\n",
       "0        czech           abl\n",
       "1        czech         adsit\n",
       "2        czech        ajdrna\n",
       "3        czech           alt\n",
       "4        czech  antonowitsch\n",
       "...        ...           ...\n",
       "20069   polish     zdunowski\n",
       "20070   polish     zielinski\n",
       "20071   polish      ziemniak\n",
       "20072   polish       zientek\n",
       "20073   polish          uraw\n",
       "\n",
       "[20074 rows x 2 columns]"
      ]
     },
     "execution_count": 277,
     "metadata": {},
     "output_type": "execute_result"
    }
   ],
   "source": [
    "# Convert names and categories to lower  case\n",
    "\n",
    "data['names'] = data.names.str.lower()\n",
    "data['category'] = data.category.str.lower()\n",
    "\n",
    "data"
   ]
  },
  {
   "cell_type": "code",
   "execution_count": 278,
   "id": "825b2c75-d1d0-4e7d-92f8-0ca0b471d5e0",
   "metadata": {},
   "outputs": [
    {
     "name": "stdout",
     "output_type": "stream",
     "text": [
      "       category       names\n",
      "0       russian  kalgashkin\n",
      "1        arabic        deeb\n",
      "2       russian     janzhul\n",
      "3       russian  tchekhonin\n",
      "4      japanese       genji\n",
      "...         ...         ...\n",
      "19065   russian    babienko\n",
      "19066   english    kearsley\n",
      "19067   russian    mordovin\n",
      "19068   russian   abrasimov\n",
      "19069   chinese         sze\n",
      "\n",
      "[19070 rows x 2 columns] \n",
      "      category       names\n",
      "0     italian      marino\n",
      "1     italian       marmo\n",
      "2     italian    martelli\n",
      "3     italian  martinelli\n",
      "4     italian        masi\n",
      "...       ...         ...\n",
      "999    polish   zdunowski\n",
      "1000   polish   zielinski\n",
      "1001   polish    ziemniak\n",
      "1002   polish     zientek\n",
      "1003   polish        uraw\n",
      "\n",
      "[1004 rows x 2 columns]\n"
     ]
    }
   ],
   "source": [
    "# Train test split\n",
    "\n",
    "train = data.sample(frac=0.95, axis=0,random_state=42)\n",
    "train.reset_index(drop=True, inplace=True)\n",
    "\n",
    "test = data.drop(index=train.index)\n",
    "test.reset_index(drop=True, inplace=True)\n",
    "print(train,'\\n',test)"
   ]
  },
  {
   "cell_type": "code",
   "execution_count": 279,
   "id": "e90cc59b-2d50-47f4-aa05-09373de38f7d",
   "metadata": {},
   "outputs": [
    {
     "name": "stdout",
     "output_type": "stream",
     "text": [
      "{'<sos>': 0, '<eos>': 1, 'a': 2, 'b': 3, 'c': 4, 'd': 5, 'e': 6, 'f': 7, 'g': 8, 'h': 9, 'i': 10, 'j': 11, 'k': 12, 'l': 13, 'm': 14, 'n': 15, 'o': 16, 'p': 17, 'q': 18, 'r': 19, 's': 20, 't': 21, 'u': 22, 'v': 23, 'w': 24, 'x': 25, 'y': 26, 'z': 27}\n",
      "\n",
      " {0: '<sos>', 1: '<eos>', 2: 'a', 3: 'b', 4: 'c', 5: 'd', 6: 'e', 7: 'f', 8: 'g', 9: 'h', 10: 'i', 11: 'j', 12: 'k', 13: 'l', 14: 'm', 15: 'n', 16: 'o', 17: 'p', 18: 'q', 19: 'r', 20: 's', 21: 't', 22: 'u', 23: 'v', 24: 'w', 25: 'x', 26: 'y', 27: 'z'}\n"
     ]
    }
   ],
   "source": [
    "# Create character index\n",
    "char_idx = {}\n",
    "char_idx['<sos>'] = 0\n",
    "char_idx['<eos>'] = 1\n",
    "characters =  string.ascii_lowercase\n",
    "for i,char in enumerate(characters):\n",
    "        char_idx[char] = i+2\n",
    "print(char_idx)\n",
    "\n",
    "# Create index to character\n",
    "idx_char = dict([(value, key) for key, value in char_idx.items()])\n",
    "print('\\n',idx_char)"
   ]
  },
  {
   "cell_type": "code",
   "execution_count": 280,
   "id": "8d19c64c-777b-4f18-9611-094dd2aaf820",
   "metadata": {},
   "outputs": [
    {
     "name": "stdout",
     "output_type": "stream",
     "text": [
      "{'czech': 0, 'german': 1, 'arabic': 2, 'japanese': 3, 'chinese': 4, 'vietnamese': 5, 'russian': 6, 'french': 7, 'irish': 8, 'english': 9, 'spanish': 10, 'greek': 11, 'italian': 12, 'portuguese': 13, 'scottish': 14, 'dutch': 15, 'korean': 16, 'polish': 17} \n",
      " \n",
      " {0: 'czech', 1: 'german', 2: 'arabic', 3: 'japanese', 4: 'chinese', 5: 'vietnamese', 6: 'russian', 7: 'french', 8: 'irish', 9: 'english', 10: 'spanish', 11: 'greek', 12: 'italian', 13: 'portuguese', 14: 'scottish', 15: 'dutch', 16: 'korean', 17: 'polish'}\n"
     ]
    }
   ],
   "source": [
    "# Create country index\n",
    "\n",
    "cat_idx = {}\n",
    "category = data.category\n",
    "for country in category:\n",
    "        if country not in cat_idx:\n",
    "            cat_idx[country] = len(cat_idx)\n",
    "\n",
    "# Create index to category\n",
    "idx_cat = dict([(value, key) for key, value in cat_idx.items()])\n",
    "print(cat_idx,'\\n','\\n',idx_cat)"
   ]
  },
  {
   "cell_type": "code",
   "execution_count": 281,
   "id": "bfcd6a4d-b7af-4e7a-9447-ee149d7fb1e3",
   "metadata": {},
   "outputs": [],
   "source": [
    "# Dataset class\n",
    "\n",
    "class Names(Dataset):\n",
    "    def __init__(self,dataframe,char_idx,idx_char,cat_idx,idx_cat):\n",
    "        super(Names,self).__init__()\n",
    "        self.names = dataframe['names']\n",
    "        self.category = dataframe['category']\n",
    "        self.char_idx = char_idx\n",
    "        self.idx_char = idx_char\n",
    "        self.cat_idx = cat_idx\n",
    "        self.idx_cat = idx_cat\n",
    "        \n",
    "    def __len__(self):\n",
    "        return len(self.names)\n",
    "    \n",
    "    def __getitem__(self,idx):\n",
    "        name = self.names.loc[idx]\n",
    "        name = [self.char_idx[i] for i in self.names.loc[idx]]\n",
    "        category = self.cat_idx[self.category.loc[idx]]\n",
    "        return (torch.tensor(name),torch.tensor(category))\n",
    "    \n",
    "    def char_idx(self):\n",
    "        char_idx = self.char_idx\n",
    "        return char_idx\n",
    "    \n",
    "    def idx_char(self,x):\n",
    "        idx_char = self.idx_char[x] \n",
    "        return idx_char\n",
    "        "
   ]
  },
  {
   "cell_type": "code",
   "execution_count": 282,
   "id": "261414f0-bc03-4839-8f0d-1aa8b386213e",
   "metadata": {},
   "outputs": [],
   "source": [
    "# Instantiate required objects\n",
    "\n",
    "train_data = Names(train,char_idx,idx_char,cat_idx,idx_cat)\n",
    "test_data = Names(test,char_idx,idx_char,cat_idx,idx_cat)"
   ]
  },
  {
   "cell_type": "code",
   "execution_count": 283,
   "id": "d1341226-4648-4f51-92ad-d91d513c4070",
   "metadata": {},
   "outputs": [
    {
     "name": "stdout",
     "output_type": "stream",
     "text": [
      "(tensor([12,  2, 13,  8,  2, 20,  9, 12, 10, 15]), tensor(6)) \n",
      " \n",
      " (tensor([14,  2, 19, 10, 15, 16]), tensor(12))\n"
     ]
    }
   ],
   "source": [
    "# Check output\n",
    "\n",
    "print(train_data.__getitem__(0),'\\n','\\n',test_data.__getitem__(0))"
   ]
  },
  {
   "cell_type": "code",
   "execution_count": 284,
   "id": "e873d1a7-3e2d-48a0-b03f-c5bef3037173",
   "metadata": {},
   "outputs": [],
   "source": [
    "# # Test methods\n",
    "\n",
    "# print(train_data.__len__())\n",
    "# print(idx_cat[train_data.__getitem__(0)[1].item()])\n",
    "# print(train_data.char_idx['a'])\n",
    "# print(train_data.idx_char[0])"
   ]
  },
  {
   "cell_type": "code",
   "execution_count": 285,
   "id": "836e1a38-0a29-4058-a99d-c40f944b6468",
   "metadata": {},
   "outputs": [],
   "source": [
    "# Creating the data for supervised learning (features,labels)\n",
    "\n",
    "def collate_fn(batch):\n",
    "    max_length = max([len(name[0]) for name in batch])\n",
    "    padded_names = torch.zeros((len(batch), max_length), dtype=torch.long)\n",
    "    category_names = torch.zeros((len(batch),max_length),dtype=torch.long)\n",
    "    # print(padded_names.size(),category_names.size())\n",
    "    for i, name in enumerate(batch):\n",
    "        padded_names[i, :len(name[0])] = name[0]\n",
    "        category_names[i, :len(name[0])] = name[1]\n",
    "    return category_names[:, :-1],padded_names[:, :-1], padded_names[:, 1:]"
   ]
  },
  {
   "cell_type": "code",
   "execution_count": 286,
   "id": "ae98de75-18b6-4327-a810-b3ea77e3874f",
   "metadata": {},
   "outputs": [],
   "source": [
    "# Creating mini-batch data feed \n",
    "\n",
    "train_loader = DataLoader(train_data,batch_size=512,shuffle=True,collate_fn=collate_fn)\n",
    "test_loader = DataLoader(train_data,batch_size= 64,shuffle=True,collate_fn=collate_fn)"
   ]
  },
  {
   "cell_type": "code",
   "execution_count": 287,
   "id": "edbce75a-01c2-47ee-8a35-90a1e05e9552",
   "metadata": {},
   "outputs": [],
   "source": [
    "# # # Test Train Loader\n",
    "# next(iter(test_loader))"
   ]
  },
  {
   "cell_type": "code",
   "execution_count": 288,
   "id": "539ca54c-b7a9-463a-a6f6-7a201f1e5e5a",
   "metadata": {},
   "outputs": [],
   "source": [
    "# Model Class\n",
    "\n",
    "class Name(nn.Module):\n",
    "    def __init__(self, num_categories, num_chars, category_embedding_dim, char_embedding_dim, hidden_dim,n_layers=1):\n",
    "        super(Name, self).__init__()\n",
    "        \n",
    "        self.n_layers = n_layers\n",
    "        self.hidden_size = hidden_dim\n",
    "        self.char_embedding = nn.Embedding(num_chars, char_embedding_dim)\n",
    "        self.category_embedding = nn.Embedding(num_categories, category_embedding_dim)\n",
    "        self.lstm = nn.LSTM(category_embedding_dim + char_embedding_dim,hidden_dim, n_layers,batch_first=True)\n",
    "        self.fc = nn.Linear(hidden_dim, num_chars)\n",
    "\n",
    "    def forward(self, category_input, char_input, hidden_state):\n",
    "        category_embedded = self.category_embedding(category_input)\n",
    "        char_embedded = self.char_embedding(char_input)\n",
    "        combined_embedded = torch.cat((category_embedded, char_embedded), dim=-1)\n",
    "        \n",
    "        lstm_output, (hidden, cell) = self.lstm(combined_embedded)\n",
    "        logits = self.fc(lstm_output)\n",
    "        return logits, (hidden, cell)\n",
    "    \n",
    "    def init_state(self, b_size=1):\n",
    "        return (torch.zeros(self.n_layers, b_size, self.hidden_size),\n",
    "                torch.zeros(self.n_layers, b_size, self.hidden_size))"
   ]
  },
  {
   "cell_type": "code",
   "execution_count": 289,
   "id": "2436c936-507b-4c0d-9613-ea735d7ff8ad",
   "metadata": {},
   "outputs": [],
   "source": [
    "# Initialize variables\n",
    "\n",
    "num_categories = len(idx_cat)\n",
    "num_chars = len(idx_char)\n",
    "category_embedding_dim = 8\n",
    "char_embedding_dim = 8\n",
    "hidden_dim = 128\n",
    "n_layers = 4"
   ]
  },
  {
   "cell_type": "code",
   "execution_count": 290,
   "id": "f72cdbd7-1fd6-4eec-aabf-a7bf6af6a841",
   "metadata": {},
   "outputs": [
    {
     "data": {
      "text/plain": [
       "(torch.Size([4, 1, 128]), torch.Size([4, 1, 128]))"
      ]
     },
     "execution_count": 290,
     "metadata": {},
     "output_type": "execute_result"
    }
   ],
   "source": [
    "# Instiate model object\n",
    "\n",
    "name  = Name(len(idx_cat),len(idx_char),category_embedding_dim,char_embedding_dim,hidden_dim,n_layers).to(device)\n",
    "\n",
    "# Test init state method\n",
    "h,c = name.init_state()\n",
    "h.size(),c.size()"
   ]
  },
  {
   "cell_type": "code",
   "execution_count": 291,
   "id": "b633123f-55c2-49db-bedd-d647edb4850b",
   "metadata": {},
   "outputs": [],
   "source": [
    "# Initialize training related variables and functions\n",
    "\n",
    "losses =[]\n",
    "loss_per_epoch = []\n",
    "hidden_cell = name.init_state(32)\n",
    "criterion = nn.CrossEntropyLoss()\n",
    "optimizer = Adam(name.parameters(), lr=0.01)\n",
    "\n",
    "num_epochs = 20"
   ]
  },
  {
   "cell_type": "code",
   "execution_count": 292,
   "id": "af6249e2-be98-44b1-a21e-805b9c8585de",
   "metadata": {},
   "outputs": [
    {
     "name": "stdout",
     "output_type": "stream",
     "text": [
      "Epoch:0 Loss: 1.7901134490966797 Test Accuracy: 56.15%\n",
      "Epoch:1 Loss: 1.5453481674194336 Test Accuracy: 60.34%\n",
      "Epoch:2 Loss: 0.8320987224578857 Test Accuracy: 64.88%\n",
      "Epoch:3 Loss: 1.4097964763641357 Test Accuracy: 67.21%\n",
      "Epoch:4 Loss: 1.1202508211135864 Test Accuracy: 68.33%\n",
      "Epoch:5 Loss: 1.0470623970031738 Test Accuracy: 69.86%\n",
      "Epoch:6 Loss: 1.1486082077026367 Test Accuracy: 71.44%\n",
      "Epoch:7 Loss: 1.0378323793411255 Test Accuracy: 72.39%\n",
      "Epoch:8 Loss: 1.0283328294754028 Test Accuracy: 73.29%\n",
      "Epoch:9 Loss: 0.8840490579605103 Test Accuracy: 73.96%\n",
      "Epoch:10 Loss: 0.9194986820220947 Test Accuracy: 74.85%\n",
      "Epoch:11 Loss: 0.9584630727767944 Test Accuracy: 75.25%\n",
      "Epoch:12 Loss: 0.8372374773025513 Test Accuracy: 76.26%\n",
      "Epoch:13 Loss: 0.7661874890327454 Test Accuracy: 76.79%\n",
      "Epoch:14 Loss: 0.8276225328445435 Test Accuracy: 77.36%\n",
      "Epoch:15 Loss: 0.7626478672027588 Test Accuracy: 78.02%\n",
      "Epoch:16 Loss: 0.6365481019020081 Test Accuracy: 78.28%\n",
      "Epoch:17 Loss: 0.6574936509132385 Test Accuracy: 78.72%\n",
      "Epoch:18 Loss: 0.7428616285324097 Test Accuracy: 79.26%\n",
      "Epoch:19 Loss: 0.7128917574882507 Test Accuracy: 79.57%\n"
     ]
    }
   ],
   "source": [
    "# Training loop\n",
    "for epoch in range(num_epochs):\n",
    "    correct = 0\n",
    "    total = 0\n",
    "    for batch_idx, (category_input, char_input, target) in enumerate(train_loader):\n",
    "        category_input = category_input.to(device)\n",
    "        char_input = char_input.to(device)\n",
    "        target = target.to(device)\n",
    "        name.train()\n",
    "        optimizer.zero_grad()\n",
    "        \n",
    "        # Forward pass\n",
    "        logits,(hidden_cell)  = name(category_input, char_input,(hidden_cell))\n",
    "       \n",
    "        \n",
    "        # Reshape the logits and targets\n",
    "        logits = logits.view(-1, num_chars) # Shape: (batch_size * sequence_length, num_chars)\n",
    "        target = target.reshape(-1)             # Shape: (batch_size * sequence_length)\n",
    "        \n",
    "        # Compute the loss\n",
    "        loss = criterion(logits,target)\n",
    "        losses.append(loss.item())\n",
    "        # Backward pass\n",
    "        loss.backward()\n",
    "        \n",
    "        _,predicted = torch.max(logits.data, 1)\n",
    "                \n",
    "        total += target.size(0)\n",
    "        correct += (predicted == target).sum().item()\n",
    "        \n",
    "        \n",
    "        # Update the model parameters\n",
    "        optimizer.step()\n",
    "    \n",
    "    train_acc = 100 * correct / total        \n",
    "    loss_per_epoch.append(loss.item())\n",
    "    print(f\"Epoch:{epoch} Loss: {loss} Test Accuracy: {train_acc:.2f}%\")\n"
   ]
  },
  {
   "cell_type": "code",
   "execution_count": 293,
   "id": "962249e3-0fed-401d-ba5c-25b6fc55dfe9",
   "metadata": {},
   "outputs": [
    {
     "data": {
      "text/plain": [
       "[<matplotlib.lines.Line2D at 0x176d05750>]"
      ]
     },
     "execution_count": 293,
     "metadata": {},
     "output_type": "execute_result"
    },
    {
     "data": {
      "image/png": "[encoded data removed]",
      "text/plain": [
       "<Figure size 640x480 with 1 Axes>"
      ]
     },
     "metadata": {},
     "output_type": "display_data"
    }
   ],
   "source": [
    "plt.plot(loss_per_epoch)"
   ]
  },
  {
   "cell_type": "code",
   "execution_count": 294,
   "id": "f0503fc1-8421-4c88-a345-061ef31f6ce0",
   "metadata": {},
   "outputs": [
    {
     "name": "stdout",
     "output_type": "stream",
     "text": [
      "77.44216687131961\n"
     ]
    }
   ],
   "source": [
    " # Test performance on test data\n",
    "name.eval()\n",
    "optimizer.zero_grad()\n",
    "correct = 0\n",
    "total = 0\n",
    "with torch.no_grad():\n",
    "    for batch_idx, (category_input, char_input, target) in enumerate(test_loader):\n",
    "        category_input = category_input.to(device)\n",
    "        char_input = char_input.to(device)\n",
    "        target = target.to(device)\n",
    "        logits,_  = name(category_input, char_input,(hidden_cell))\n",
    "        logits = logits.view(-1, num_chars) # Shape: (batch_size * sequence_length, num_chars)\n",
    "        target = target.reshape(-1)             # Shape: (batch_size * sequence_length)\n",
    "        _,predicted = torch.max(logits.data, 1)\n",
    "\n",
    "        total += target.size(0)\n",
    "        correct += (predicted == target).sum().item()\n",
    "        test_acc = 100 * correct / total\n",
    "    print(test_acc)"
   ]
  },
  {
   "cell_type": "code",
   "execution_count": 295,
   "id": "a2be04e4-a2bc-4b36-ae53-fb6b640c4302",
   "metadata": {
    "tags": []
   },
   "outputs": [],
   "source": [
    "# Name generation function\n",
    "\n",
    "def generate_name(model, category_input, char_idx, idx_char, first_char,max_length, temperature=0.75):\n",
    "    # Set the initial input character and the provided category\n",
    "    \n",
    "    char_input = torch.tensor([char_idx[first_char]], dtype=torch.long).to(device)\n",
    "    category_input = torch.tensor([category_input], dtype=torch.long).to(device)\n",
    "    hidden_state = model.init_state()\n",
    "    # # Move inputs to the same device as the model\n",
    "    # category_input = category_input.to(model.device)\n",
    "    # char_input = char_input.to(model.device)\n",
    "\n",
    "    generated_name = first_char + \"\"\n",
    "    \n",
    "    model.eval()\n",
    "    optimizer.zero_grad()\n",
    "\n",
    "    # Generate characters until the <end> token is sampled or max_length is reached\n",
    "    for _ in range(max_length):\n",
    "        \n",
    "        \n",
    "        with torch.no_grad():\n",
    "            # Predict the next character using the model\n",
    "            category_input = category_input.to(device)\n",
    "            char_input = char_input.to(device)\n",
    "            logits, (hidden_state) = model(category_input, char_input,(hidden_state))\n",
    "\n",
    "            # prev_state = hidden_state[0]\n",
    "            probs = torch.softmax(logits / temperature, dim=-1).squeeze(0)\n",
    "\n",
    "            # Sample the next character from the output probabilities\n",
    "            next_char_idx = torch.multinomial(probs, 1).item()\n",
    "\n",
    "            next_char = idx_char[next_char_idx]\n",
    "\n",
    "            # Check if the <end> token is sampled\n",
    "            if next_char == '<eos>' or next_char == '<sos>':\n",
    "                break\n",
    "\n",
    "            # Add the sampled character to the generated name\n",
    "            generated_name += next_char\n",
    "\n",
    "            # Set the current input as the next character\n",
    "            char_input = torch.tensor([next_char_idx], dtype=torch.long).to(device)\n",
    "\n",
    "    return generated_name\n"
   ]
  },
  {
   "cell_type": "code",
   "execution_count": 325,
   "id": "9c82324b-77fc-498a-aaae-63ad9b828ae6",
   "metadata": {},
   "outputs": [
    {
     "name": "stdout",
     "output_type": "stream",
     "text": [
      "Generated name for country irish: zelesurul\n"
     ]
    }
   ],
   "source": [
    "# Name generation \n",
    "\n",
    "key = random.choice(list(cat_idx))\n",
    "category_input = cat_idx[key]\n",
    "\n",
    "generated_name = generate_name(name, category_input, char_idx, idx_char, first_char = 'z', max_length=8)\n",
    "print(f\"Generated name for country {key}: {generated_name}\")\n"
   ]
  },
  {
   "cell_type": "code",
   "execution_count": 326,
   "id": "d5f17d24-111c-44b6-968e-be21573d4209",
   "metadata": {},
   "outputs": [
    {
     "name": "stdout",
     "output_type": "stream",
     "text": [
      "Starting with characeter: m the generated name for country japanese: mishimana\n",
      "Starting with characeter: b the generated name for country french: balamedes\n",
      "Starting with characeter: s the generated name for country korean: sunainyal\n",
      "Starting with characeter: g the generated name for country scottish: gaseledit\n"
     ]
    }
   ],
   "source": [
    "# More names\n",
    "cntry = ['japanese', 'french', 'korean','scottish']\n",
    "\n",
    "for c in cntry:\n",
    "    idx = cat_idx[c]\n",
    "    first_char =  idx_char[np.random.choice(17,1).item()]\n",
    "    if first_char == '<sos>' or first_char == '<eos>':\n",
    "        first_char = 's'\n",
    "        \n",
    "    new_name = generate_name(name, idx, char_idx, idx_char, first_char,max_length=8)\n",
    "    print(f\"Starting with characeter: {first_char} the generated name for country {c}: {new_name}\")"
   ]
  },
  {
   "cell_type": "code",
   "execution_count": null,
   "id": "c6e6ab97-78f3-4d23-b601-524b3b215aba",
   "metadata": {},
   "outputs": [],
   "source": []
  },
  {
   "cell_type": "code",
   "execution_count": null,
   "id": "e5fd6c4d-4b77-4e66-9931-36cca3e33d96",
   "metadata": {},
   "outputs": [],
   "source": []
  }
 ],
 "metadata": {
  "kernelspec": {
   "display_name": "ml",
   "language": "python",
   "name": "ml"
  },
  "language_info": {
   "codemirror_mode": {
    "name": "ipython",
    "version": 3
   },
   "file_extension": ".py",
   "mimetype": "text/x-python",
   "name": "python",
   "nbconvert_exporter": "python",
   "pygments_lexer": "ipython3",
   "version": "3.10.11"
  }
 },
 "nbformat": 4,
 "nbformat_minor": 5
}
